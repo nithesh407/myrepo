{
 "cells": [
  {
   "cell_type": "code",
   "execution_count": 7,
   "metadata": {},
   "outputs": [
    {
     "name": "stdout",
     "output_type": "stream",
     "text": [
      "the largest is num3\n"
     ]
    }
   ],
   "source": [
    "# a python program to find which number is greater among three\n",
    "num1 = 20\n",
    "num2 = 25\n",
    "num3 = 30\n",
    "\n",
    "if (num1>=num2) and (num1>=num2):\n",
    "    print(\"the largest is num1\")\n",
    "elif(num2>=num3)and (num2>=num3):\n",
    "        print(\"the largest is num2\")\n",
    "else:\n",
    "            print (\"the largest is num3\")"
   ]
  },
  {
   "cell_type": "code",
   "execution_count": null,
   "metadata": {},
   "outputs": [],
   "source": []
  }
 ],
 "metadata": {
  "kernelspec": {
   "display_name": "Python 3",
   "language": "python",
   "name": "python3"
  },
  "language_info": {
   "codemirror_mode": {
    "name": "ipython",
    "version": 3
   },
   "file_extension": ".py",
   "mimetype": "text/x-python",
   "name": "python",
   "nbconvert_exporter": "python",
   "pygments_lexer": "ipython3",
   "version": "3.8.2"
  }
 },
 "nbformat": 4,
 "nbformat_minor": 4
}
