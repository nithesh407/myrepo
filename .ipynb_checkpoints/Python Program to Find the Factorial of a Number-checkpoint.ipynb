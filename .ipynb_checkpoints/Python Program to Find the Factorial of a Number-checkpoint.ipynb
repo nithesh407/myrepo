{
 "cells": [
  {
   "cell_type": "code",
   "execution_count": 4,
   "metadata": {
    "scrolled": true
   },
   "outputs": [
    {
     "name": "stdout",
     "output_type": "stream",
     "text": [
      "enter the number:5\n",
      "the factorial of 5 is 120\n"
     ]
    }
   ],
   "source": [
    "# Python Program to Find the Factorial of a Number\n",
    "num = int(input(\"enter the number:\"))\n",
    "factorial=1\n",
    "if num<0:\n",
    "    print(\"sorry,the entered number is a negative number ,so it does not exists\")\n",
    "elif num==0:\n",
    "    print(\"the factorial os 0 is 1\")\n",
    "else:\n",
    "    for i in range (1,num+1):\n",
    "        factorial=factorial*i\n",
    "    print(\"the factorial of\",num,\"is\",factorial) \n"
   ]
  },
  {
   "cell_type": "code",
   "execution_count": null,
   "metadata": {},
   "outputs": [],
   "source": []
  },
  {
   "cell_type": "code",
   "execution_count": null,
   "metadata": {},
   "outputs": [],
   "source": []
  }
 ],
 "metadata": {
  "kernelspec": {
   "display_name": "Python 3",
   "language": "python",
   "name": "python3"
  },
  "language_info": {
   "codemirror_mode": {
    "name": "ipython",
    "version": 3
   },
   "file_extension": ".py",
   "mimetype": "text/x-python",
   "name": "python",
   "nbconvert_exporter": "python",
   "pygments_lexer": "ipython3",
   "version": "3.8.2"
  }
 },
 "nbformat": 4,
 "nbformat_minor": 4
}
