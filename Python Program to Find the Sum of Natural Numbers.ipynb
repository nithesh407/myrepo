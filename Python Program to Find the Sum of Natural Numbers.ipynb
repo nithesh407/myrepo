{
 "cells": [
  {
   "cell_type": "code",
   "execution_count": 2,
   "metadata": {},
   "outputs": [
    {
     "name": "stdout",
     "output_type": "stream",
     "text": [
      "sum of natural number 1 is 1\n",
      "sum of natural number 2 is 3\n",
      "sum of natural number 3 is 6\n",
      "sum of natural number 4 is 10\n",
      "sum of natural number 5 is 15\n",
      "sum of natural number 6 is 21\n",
      "sum of natural number 7 is 28\n",
      "sum of natural number 8 is 36\n",
      "sum of natural number 9 is 45\n",
      "sum of natural number 10 is 55\n",
      "sum of natural number 11 is 66\n",
      "sum of natural number 12 is 78\n",
      "sum of natural number 13 is 91\n",
      "sum of natural number 14 is 105\n",
      "sum of natural number 15 is 120\n",
      "sum of natural number 16 is 136\n",
      "sum of natural number 17 is 153\n",
      "sum of natural number 18 is 171\n",
      "sum of natural number 19 is 190\n",
      "sum of natural number 20 is 210\n",
      "sum of natural number 21 is 231\n",
      "sum of natural number 22 is 253\n",
      "sum of natural number 23 is 276\n",
      "sum of natural number 24 is 300\n",
      "sum of natural number 25 is 325\n",
      "sum of natural number 26 is 351\n",
      "sum of natural number 27 is 378\n",
      "sum of natural number 28 is 406\n"
     ]
    }
   ],
   "source": [
    "sum = 0\n",
    "for n in range (1,29):\n",
    "    sum += n\n",
    "    \n",
    "    print('sum of natural number',n,'is',sum)"
   ]
  },
  {
   "cell_type": "code",
   "execution_count": null,
   "metadata": {},
   "outputs": [],
   "source": []
  }
 ],
 "metadata": {
  "kernelspec": {
   "display_name": "Python 3",
   "language": "python",
   "name": "python3"
  },
  "language_info": {
   "codemirror_mode": {
    "name": "ipython",
    "version": 3
   },
   "file_extension": ".py",
   "mimetype": "text/x-python",
   "name": "python",
   "nbconvert_exporter": "python",
   "pygments_lexer": "ipython3",
   "version": "3.8.2"
  }
 },
 "nbformat": 4,
 "nbformat_minor": 4
}
