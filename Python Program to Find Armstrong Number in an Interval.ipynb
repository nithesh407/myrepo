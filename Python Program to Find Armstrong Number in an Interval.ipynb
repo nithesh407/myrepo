{
 "cells": [
  {
   "cell_type": "code",
   "execution_count": 5,
   "metadata": {},
   "outputs": [
    {
     "name": "stdout",
     "output_type": "stream",
     "text": [
      "enter the num1:100\n",
      "enter the num2:500\n",
      "125\n",
      "153\n",
      "216\n",
      "370\n",
      "371\n",
      "407\n"
     ]
    }
   ],
   "source": [
    "num1 = int(input(\"enter the num1:\"))\n",
    "num2 = int(input(\"enter the num2:\"))\n",
    "\n",
    "for num in range (num1,num2 + 1):\n",
    "    sum = 0\n",
    "    temp = num\n",
    "    while temp>0:\n",
    "        digit = temp% 10\n",
    "        sum = sum +digit**3\n",
    "        temp = temp//10\n",
    "        if num==sum:\n",
    "            print(sum)\n",
    "        "
   ]
  },
  {
   "cell_type": "code",
   "execution_count": null,
   "metadata": {},
   "outputs": [],
   "source": []
  },
  {
   "cell_type": "code",
   "execution_count": null,
   "metadata": {},
   "outputs": [],
   "source": []
  }
 ],
 "metadata": {
  "kernelspec": {
   "display_name": "Python 3",
   "language": "python",
   "name": "python3"
  },
  "language_info": {
   "codemirror_mode": {
    "name": "ipython",
    "version": 3
   },
   "file_extension": ".py",
   "mimetype": "text/x-python",
   "name": "python",
   "nbconvert_exporter": "python",
   "pygments_lexer": "ipython3",
   "version": "3.8.2"
  }
 },
 "nbformat": 4,
 "nbformat_minor": 4
}
